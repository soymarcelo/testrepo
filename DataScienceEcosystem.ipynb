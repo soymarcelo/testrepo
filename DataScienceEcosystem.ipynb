{
 "cells": [
  {
   "cell_type": "markdown",
   "id": "3768056e-5fd8-44d4-ba93-5d5fc32754c1",
   "metadata": {},
   "source": [
    "# Data Science Tools and Ecosystem"
   ]
  },
  {
   "cell_type": "markdown",
   "id": "edb09b1f-0807-4721-9920-33485540d95f",
   "metadata": {},
   "source": [
    "### In this notebook, Data Science Tools and Ecosystem are summarized."
   ]
  },
  {
   "cell_type": "markdown",
   "id": "b0ef4c64-07c4-4d4c-bf14-b2ef34abd2cf",
   "metadata": {},
   "source": [
    "**Objetives:**"
   ]
  },
  {
   "cell_type": "markdown",
   "id": "cddad767-3185-4b2b-874e-a9042fe5ecc5",
   "metadata": {},
   "source": [
    "- List popular languagest for Data Science\n",
    "- Create a Jupyter Notebook with markdown and code cells\n",
    "- Share your Jupyter Notebook publicly on GitHub\n",
    "- Demonstrate proficiency in Data Science toolkit knowledge"
   ]
  },
  {
   "cell_type": "markdown",
   "id": "9afe546f-2361-49df-9ea7-71c29822a5c4",
   "metadata": {},
   "source": [
    "#### Some of the popular languages that Data Scientists use are:"
   ]
  },
  {
   "cell_type": "markdown",
   "id": "17f10275-d0ad-4b74-8e14-929a1d4ae46a",
   "metadata": {},
   "source": [
    "1. Python\n",
    "2. R\n",
    "3. Julia\n",
    "4. Java"
   ]
  },
  {
   "cell_type": "markdown",
   "id": "b8bdcef9-bea5-4f22-8469-50c3ee4ca10c",
   "metadata": {},
   "source": [
    "#### Some of the commonly used libraries used by Data Scientist include:"
   ]
  },
  {
   "cell_type": "markdown",
   "id": "e610b058-e3f7-4f37-ad71-873be2624437",
   "metadata": {},
   "source": [
    "1. Numpy\n",
    "2. Pandas\n",
    "3. TensorFlow\n",
    "4. Matplotlib"
   ]
  },
  {
   "cell_type": "markdown",
   "id": "2bb7450c-4789-42f9-bb2c-793c6ce0dedd",
   "metadata": {},
   "source": [
    "|Data Science Tools|\n",
    "|----|\n",
    "|Jupyter|\n",
    "|RStudio|\n",
    "|Apache Zeppelin|"
   ]
  },
  {
   "cell_type": "markdown",
   "id": "99ab0aec-5cad-4dc3-b88c-c7af2f5272c6",
   "metadata": {},
   "source": [
    "### Below are a few examples of evaluating arithmetic expressions in Python"
   ]
  },
  {
   "cell_type": "code",
   "execution_count": 29,
   "id": "2a991d8e-ea10-4fb8-a0ca-eab63b0ac4a7",
   "metadata": {},
   "outputs": [
    {
     "data": {
      "text/plain": [
       "17"
      ]
     },
     "execution_count": 29,
     "metadata": {},
     "output_type": "execute_result"
    }
   ],
   "source": [
    "(3*4)+5"
   ]
  },
  {
   "cell_type": "markdown",
   "id": "e8b88629-bdd3-4889-ad26-2dbeb6eb9b8b",
   "metadata": {},
   "source": [
    "This is a simple arthmetic expression to multiply and then add integers"
   ]
  },
  {
   "cell_type": "markdown",
   "id": "8031b1d3-59af-427f-a11c-6afc7ec9df5a",
   "metadata": {},
   "source": [
    "#### This will convert minutes to hours by dividing by 60"
   ]
  },
  {
   "cell_type": "code",
   "execution_count": 49,
   "id": "98787602-5689-47dc-9e15-162e6b8f6855",
   "metadata": {},
   "outputs": [],
   "source": [
    "minutes=200\n",
    "hours=minutes/60"
   ]
  },
  {
   "cell_type": "code",
   "execution_count": 51,
   "id": "8c747736-e99b-4118-8832-b3741c06f389",
   "metadata": {},
   "outputs": [
    {
     "name": "stdout",
     "output_type": "stream",
     "text": [
      "200 minutes are 3.3333333333333335 hours\n"
     ]
    }
   ],
   "source": [
    "print(f\"{minutes} minutes are {hours} hours\")"
   ]
  },
  {
   "cell_type": "markdown",
   "id": "1cfb6b07-0e99-4f51-a7f5-b3f8fd7f92f6",
   "metadata": {},
   "source": [
    "## Author\n",
    "Juan Marcelo Saumell"
   ]
  },
  {
   "cell_type": "code",
   "execution_count": null,
   "id": "63f67584-db49-4b66-834f-ee33284c0492",
   "metadata": {},
   "outputs": [],
   "source": []
  }
 ],
 "metadata": {
  "kernelspec": {
   "display_name": "Python 3 (ipykernel)",
   "language": "python",
   "name": "python3"
  },
  "language_info": {
   "codemirror_mode": {
    "name": "ipython",
    "version": 3
   },
   "file_extension": ".py",
   "mimetype": "text/x-python",
   "name": "python",
   "nbconvert_exporter": "python",
   "pygments_lexer": "ipython3",
   "version": "3.12.7"
  }
 },
 "nbformat": 4,
 "nbformat_minor": 5
}
